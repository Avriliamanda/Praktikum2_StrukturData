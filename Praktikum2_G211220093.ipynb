{
  "nbformat": 4,
  "nbformat_minor": 0,
  "metadata": {
    "colab": {
      "provenance": [],
      "authorship_tag": "ABX9TyPIuqs91tOzQdS67jlVBa2o",
      "include_colab_link": true
    },
    "kernelspec": {
      "name": "python3",
      "display_name": "Python 3"
    },
    "language_info": {
      "name": "python"
    }
  },
  "cells": [
    {
      "cell_type": "markdown",
      "metadata": {
        "id": "view-in-github",
        "colab_type": "text"
      },
      "source": [
        "<a href=\"https://colab.research.google.com/github/Avriliamanda/Praktikum2_StrukturData/blob/main/Praktikum2_G211220093.ipynb\" target=\"_parent\"><img src=\"https://colab.research.google.com/assets/colab-badge.svg\" alt=\"Open In Colab\"/></a>"
      ]
    },
    {
      "cell_type": "markdown",
      "source": [
        "# Tuple"
      ],
      "metadata": {
        "id": "j98xx51sOrDE"
      }
    },
    {
      "cell_type": "code",
      "source": [
        "mahasiswa = (\"Maritza Avriliamanda Vistara\", \"G.211.22.0093\", \"Teknik Informatika\")\n",
        "\n",
        "print(\"NAMA : \", mahasiswa[0])\n",
        "print(\"NIM : \", mahasiswa[1])\n",
        "print(\"PRODI : \", mahasiswa[2])"
      ],
      "metadata": {
        "colab": {
          "base_uri": "https://localhost:8080/"
        },
        "id": "sQDmonH6cs_j",
        "outputId": "cefdd19c-3fa7-429a-a17b-5c5d3d36141d"
      },
      "execution_count": 26,
      "outputs": [
        {
          "output_type": "stream",
          "name": "stdout",
          "text": [
            "NAMA :  Maritza Avriliamanda Vistara\n",
            "NIM :  G.211.22.0093\n",
            "PRODI :  Teknik Informatika\n"
          ]
        }
      ]
    },
    {
      "cell_type": "markdown",
      "source": [
        "# Dictionary"
      ],
      "metadata": {
        "id": "fZLsYg26Ottn"
      }
    },
    {
      "cell_type": "code",
      "execution_count": 27,
      "metadata": {
        "colab": {
          "base_uri": "https://localhost:8080/"
        },
        "id": "aHLiYq8wOOTm",
        "outputId": "0eeb9f7e-385b-4591-f80c-520e839daa05"
      },
      "outputs": [
        {
          "output_type": "stream",
          "name": "stdout",
          "text": [
            "Nama : Maritza Avriliamanda\n",
            "NIM : G211220093\n",
            "Prodi : Teknik Informatika\n"
          ]
        }
      ],
      "source": [
        "data = {\"Nama\": \"Maritza Avriliamanda\", \"NIM\" : \"G211220093\", \"Prodi\": \"Teknik Informatika\"}\n",
        "\n",
        "print(\"Nama :\", data[\"Nama\"])\n",
        "print(\"NIM :\", data[\"NIM\"])\n",
        "print(\"Prodi :\", data[\"Prodi\"])"
      ]
    }
  ]
}